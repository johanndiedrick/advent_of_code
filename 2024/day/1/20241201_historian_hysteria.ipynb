{
 "cells": [
  {
   "cell_type": "code",
   "execution_count": 18,
   "metadata": {},
   "outputs": [
    {
     "name": "stdout",
     "output_type": "stream",
     "text": [
      "2113135\n"
     ]
    }
   ],
   "source": [
    "# part 1\n",
    "\n",
    "left_location_ids = []\n",
    "right_location_ids = []\n",
    "\n",
    "output = 0\n",
    "\n",
    "# create left list and right list\n",
    "input = open('input.txt', 'r')\n",
    "lines = input.readlines()\n",
    "\n",
    "\n",
    "for line in lines:\n",
    "    left, right = line.split()\n",
    "    \n",
    "    left_location_ids.append(int(left))\n",
    "    right_location_ids.append(int(right))\n",
    "\n",
    "# sort each list\n",
    "left_location_ids.sort()\n",
    "right_location_ids.sort()\n",
    "\n",
    "\n",
    "# add up difference between each pair of elements in left_location_ids and right_location_ids\n",
    "for l, r in zip(left_location_ids, right_location_ids):\n",
    "    output += abs(l -r)\n",
    "\n",
    "print(output)"
   ]
  },
  {
   "cell_type": "code",
   "execution_count": 20,
   "metadata": {},
   "outputs": [
    {
     "name": "stdout",
     "output_type": "stream",
     "text": [
      "19097157\n"
     ]
    }
   ],
   "source": [
    "# part 2\n",
    "from collections import Counter\n",
    "\n",
    "output = 0\n",
    "\n",
    "right_location_ids_counter = Counter(right_location_ids)\n",
    "\n",
    "for id in left_location_ids:\n",
    "    if id in right_location_ids_counter:\n",
    "        output += id * right_location_ids_counter[id]\n",
    "\n",
    "print(output)"
   ]
  },
  {
   "cell_type": "code",
   "execution_count": null,
   "metadata": {},
   "outputs": [],
   "source": []
  }
 ],
 "metadata": {
  "kernelspec": {
   "display_name": "Python 3",
   "language": "python",
   "name": "python3"
  },
  "language_info": {
   "codemirror_mode": {
    "name": "ipython",
    "version": 3
   },
   "file_extension": ".py",
   "mimetype": "text/x-python",
   "name": "python",
   "nbconvert_exporter": "python",
   "pygments_lexer": "ipython3",
   "version": "3.9.6"
  }
 },
 "nbformat": 4,
 "nbformat_minor": 2
}
